{
 "cells": [
  {
   "cell_type": "markdown",
   "metadata": {},
   "source": [
    "# Semana 1 - Elementos de matemática\n",
    "\n",
    "---"
   ]
  },
  {
   "cell_type": "markdown",
   "metadata": {},
   "source": [
    "#### Velocidad de cambio\n",
    "Cuando tenemos rectas tangentes a nuestra función, si la recta tiene pendiente positiva sabemos que la función está creciendo. Si la tangente tiene pendiente negativa la función esta decreciendo, y si la tangente tiene una pendiente cero, estamos ante un mínimo o máximo de la función.\n",
    "Para calcular la pendiente tenemos dos caminos:\n",
    "* Analítico: derivamos la función, para ello debemos conocer la función si o si.\n",
    "* Numérico: no necesitamos conocer la función, simplemente aproximamos las pendientes usando los datos que tenemos de las funciones.\n",
    "\n",
    "Para calcularlo en Python puedo usar NumPy que tiene un método llamado numpy.gradient. Al pasarle un array, nos devuelve otro array con los valores de las pendientes del array original. Los valores positivos indican que la función crece en ese punto y los valores negativos indican que la función decrece en ese punto.\n",
    "\n",
    "Para saber si estoy en un máximo o un mínimo cuando la pendiente es cero:\n",
    "* Máximo: los valores de **y** que devuelve la función bajan si me muevo en **x**\n",
    "* Mínimo: los valores de **y** que devuelve la función suben si me muevo en **x**\n",
    "\n",
    "#### Modelo\n",
    "Es una función que represente mejor los datos que tenemos. Para ello buscamos minimizar la distancia de un modelo a los datos. Esto lo hacemos calculando la distancia cuadrática entre todos los puntos y nuestro valor de predicción, esto nos da una función D(a,b). Cuando esta función sea mínima, tendremos el mejor modelo.\n",
    "A partir de datos, obtenemos un modelo que representa esos datos. Este modelo generaliza una relación y nos permite hacer predicciones.\n",
    "\n",
    "#### Probabilidades\n",
    "* **Fuentes de incertidumbre**: Observabilidad incompleta, modelización incompleta, imprevisibilidad, estocasticidad inherente, etc.\n",
    "* **Probabilidades simples**: Probabilidad de que ocurra algo (binaria), probabilidad entera (discreta, la más estudiada, la más intuitiva), probabilidad continua (más útil, realista, frecuente).\n",
    "\n",
    "***1) Variables aleatorias discretas***:\n",
    "* Realización: resultado de un proceso aleatorio.\n",
    "* Muestreo: número de realizaciones.\n",
    "Las sumas de las probabilidades siempre va a ser uno.\n",
    "\n",
    "*Distribución binomial de probabilidad*:\n",
    "\n",
    "*P(E) = p* la probabilidad de éxito\n",
    "\n",
    "*P(F) = q* la probabilidad de fracaso\n",
    "\n",
    "Como la suma tiene que ser uno: *q = 1-p*\n",
    "\n",
    "**Medidas de tendencia central**\n",
    "\n",
    "*Promedio*: suma de todos los valores dividido la cantidad de valores.\n",
    "\n",
    "*Mediana*: valorq ue separa los datos en 2 mitades.\n",
    "\n",
    "*Moda*: valor más probable. \n",
    "\n",
    "*Varianza*:  me permite medir el \"ancho\" de la distribución de probabilidad.\n",
    "\n",
    "*Desviación estándar*: la raíz cuadrada de la varianza.\n",
    "\n",
    "*Cuantiles*: contienen fracciones de (la probabilidad de) los datos.\n",
    "\n",
    "***2) Densidad de probabilidad***:\n",
    "\n",
    "Una variable continua tendrá una probabilidad continua. La densidad de probabilidad es *p(x)*.\n",
    "Se puede calcular una probabilidad para un intervalo de valores: área bajo la curva (integral).\n",
    "\n",
    "**Distribución normal o Gaussiana**: Es la más común entre todas las distribuciones continuas de densidad de probabilidad.\n",
    "*Teorema del límite central*: Cuando los resultados de un *conjunto de datos* se deben a una *combinación muy grande de factores independientes*, que actúan sumandos us efectos, siendo cada efecto individual de poca importancia respecto al conjunto, es esperable que los resultados de ese conjunto sigan una *distribución normal*.\n",
    "* Modo (pico): valor más probable.\n",
    "* Región de confianza: rango que abarca una probabilidad determinada (percentil). La desviación típica contiene el 68% de probabilidad.\n",
    "* Valor medio (la mediana es más representativa si hay valores atípicos o colas)."
   ]
  },
  {
   "cell_type": "markdown",
   "metadata": {},
   "source": [
    "### Ajuste lineal o regresión lineal\n",
    "\n",
    "Primero creamos un conjunto de datos arbitrario y graficamos\n"
   ]
  },
  {
   "cell_type": "code",
   "execution_count": 7,
   "metadata": {},
   "outputs": [],
   "source": [
    "import numpy as np\n",
    "import matplotlib.pyplot as plt"
   ]
  },
  {
   "cell_type": "code",
   "execution_count": 9,
   "metadata": {},
   "outputs": [
    {
     "data": {
      "image/png": "[encoded data removed]",
      "text/plain": [
       "<Figure size 640x480 with 1 Axes>"
      ]
     },
     "metadata": {},
     "output_type": "display_data"
    }
   ],
   "source": [
    "# con np.array puedo tomar una lista de números y transformarlas en un array que es basicamente un vector\n",
    "x = np.array([55.0, 38, 68, 70, 53, 46, 11, 16, 20, 4])\n",
    "y = np.array([153.0, 98, 214, 220, 167, 145, 41, 63, 65, 25])\n",
    "\n",
    "# con scatter hago un gráfico de dispersión\n",
    "grafico = plt.scatter(x = x, y = y, color = 'red')\n",
    "plt.ylim((-10, 240))\n",
    "plt.xlabel('x')\n",
    "plt.ylabel('y')\n",
    "plt.show()"
   ]
  },
  {
   "cell_type": "code",
   "execution_count": null,
   "metadata": {},
   "outputs": [],
   "source": []
  }
 ],
 "metadata": {
  "kernelspec": {
   "display_name": ".venv",
   "language": "python",
   "name": "python3"
  },
  "language_info": {
   "codemirror_mode": {
    "name": "ipython",
    "version": 3
   },
   "file_extension": ".py",
   "mimetype": "text/x-python",
   "name": "python",
   "nbconvert_exporter": "python",
   "pygments_lexer": "ipython3",
   "version": "3.12.2"
  }
 },
 "nbformat": 4,
 "nbformat_minor": 2
}
