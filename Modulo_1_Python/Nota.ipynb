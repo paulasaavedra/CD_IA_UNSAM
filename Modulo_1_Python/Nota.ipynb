{
 "cells": [
  {
   "cell_type": "markdown",
   "metadata": {},
   "source": [
    "Del módulo 1 no hice nada porque son temas que ya conozco."
   ]
  }
 ],
 "metadata": {
  "language_info": {
   "name": "python"
  }
 },
 "nbformat": 4,
 "nbformat_minor": 2
}
